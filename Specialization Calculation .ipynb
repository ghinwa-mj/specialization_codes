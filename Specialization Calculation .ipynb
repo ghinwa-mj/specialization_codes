{
 "cells": [
  {
   "cell_type": "code",
   "execution_count": 1,
   "metadata": {},
   "outputs": [],
   "source": [
    "import pandas as pd\n",
    "import numpy as np\n",
    "\n",
    "import math"
   ]
  },
  {
   "cell_type": "code",
   "execution_count": 2,
   "metadata": {},
   "outputs": [],
   "source": [
    "df = pd.read_csv(r\"C:\\Users\\ITN1\\OneDrive - UPV\\Escritorio\\Data Science\\Blogging\\data\\patent_data\\dataset_frac_inpadoc_family_by_year_by_cpc4dig_by_nuts2.csv\")"
   ]
  },
  {
   "cell_type": "code",
   "execution_count": 3,
   "metadata": {},
   "outputs": [
    {
     "data": {
      "text/html": [
       "<div>\n",
       "<style scoped>\n",
       "    .dataframe tbody tr th:only-of-type {\n",
       "        vertical-align: middle;\n",
       "    }\n",
       "\n",
       "    .dataframe tbody tr th {\n",
       "        vertical-align: top;\n",
       "    }\n",
       "\n",
       "    .dataframe thead th {\n",
       "        text-align: right;\n",
       "    }\n",
       "</style>\n",
       "<table border=\"1\" class=\"dataframe\">\n",
       "  <thead>\n",
       "    <tr style=\"text-align: right;\">\n",
       "      <th></th>\n",
       "      <th>Year</th>\n",
       "      <th>nuts2</th>\n",
       "      <th>cpc4dig</th>\n",
       "      <th>Frac_fam</th>\n",
       "    </tr>\n",
       "  </thead>\n",
       "  <tbody>\n",
       "    <tr>\n",
       "      <th>0</th>\n",
       "      <td>1999</td>\n",
       "      <td>FI19</td>\n",
       "      <td>G06K</td>\n",
       "      <td>1.345238</td>\n",
       "    </tr>\n",
       "    <tr>\n",
       "      <th>1</th>\n",
       "      <td>1990</td>\n",
       "      <td>UKH1</td>\n",
       "      <td>B01J</td>\n",
       "      <td>0.160606</td>\n",
       "    </tr>\n",
       "    <tr>\n",
       "      <th>2</th>\n",
       "      <td>1990</td>\n",
       "      <td>BE22</td>\n",
       "      <td>B01J</td>\n",
       "      <td>0.174923</td>\n",
       "    </tr>\n",
       "    <tr>\n",
       "      <th>3</th>\n",
       "      <td>1990</td>\n",
       "      <td>UKJ1</td>\n",
       "      <td>B01J</td>\n",
       "      <td>1.307167</td>\n",
       "    </tr>\n",
       "    <tr>\n",
       "      <th>4</th>\n",
       "      <td>1990</td>\n",
       "      <td>NL42</td>\n",
       "      <td>B01J</td>\n",
       "      <td>0.001010</td>\n",
       "    </tr>\n",
       "  </tbody>\n",
       "</table>\n",
       "</div>"
      ],
      "text/plain": [
       "   Year nuts2 cpc4dig  Frac_fam\n",
       "0  1999  FI19    G06K  1.345238\n",
       "1  1990  UKH1    B01J  0.160606\n",
       "2  1990  BE22    B01J  0.174923\n",
       "3  1990  UKJ1    B01J  1.307167\n",
       "4  1990  NL42    B01J  0.001010"
      ]
     },
     "execution_count": 3,
     "metadata": {},
     "output_type": "execute_result"
    }
   ],
   "source": [
    "df.head()"
   ]
  },
  {
   "cell_type": "code",
   "execution_count": 4,
   "metadata": {},
   "outputs": [],
   "source": [
    "#filter for the years used\n",
    "df = df[(df['Year'] >= 2010) & (df['Year'] <= 2015)]\n",
    "\n",
    "#Remove the Turkey data\n",
    "df = df[df['nuts2'].str[0:2] != \"TR\"]"
   ]
  },
  {
   "cell_type": "code",
   "execution_count": 5,
   "metadata": {},
   "outputs": [
    {
     "data": {
      "text/html": [
       "<div>\n",
       "<style scoped>\n",
       "    .dataframe tbody tr th:only-of-type {\n",
       "        vertical-align: middle;\n",
       "    }\n",
       "\n",
       "    .dataframe tbody tr th {\n",
       "        vertical-align: top;\n",
       "    }\n",
       "\n",
       "    .dataframe thead th {\n",
       "        text-align: right;\n",
       "    }\n",
       "</style>\n",
       "<table border=\"1\" class=\"dataframe\">\n",
       "  <thead>\n",
       "    <tr style=\"text-align: right;\">\n",
       "      <th></th>\n",
       "      <th>cpc3dig</th>\n",
       "      <th>nuts2</th>\n",
       "      <th>Year</th>\n",
       "      <th>Frac_fam</th>\n",
       "    </tr>\n",
       "  </thead>\n",
       "  <tbody>\n",
       "    <tr>\n",
       "      <th>0</th>\n",
       "      <td>A01B</td>\n",
       "      <td>AT12</td>\n",
       "      <td>4028</td>\n",
       "      <td>1.833333</td>\n",
       "    </tr>\n",
       "    <tr>\n",
       "      <th>1</th>\n",
       "      <td>A01B</td>\n",
       "      <td>AT13</td>\n",
       "      <td>2015</td>\n",
       "      <td>0.100000</td>\n",
       "    </tr>\n",
       "    <tr>\n",
       "      <th>2</th>\n",
       "      <td>A01B</td>\n",
       "      <td>AT21</td>\n",
       "      <td>6042</td>\n",
       "      <td>0.726190</td>\n",
       "    </tr>\n",
       "    <tr>\n",
       "      <th>3</th>\n",
       "      <td>A01B</td>\n",
       "      <td>AT22</td>\n",
       "      <td>8054</td>\n",
       "      <td>2.119048</td>\n",
       "    </tr>\n",
       "    <tr>\n",
       "      <th>4</th>\n",
       "      <td>A01B</td>\n",
       "      <td>AT31</td>\n",
       "      <td>12075</td>\n",
       "      <td>11.404365</td>\n",
       "    </tr>\n",
       "  </tbody>\n",
       "</table>\n",
       "</div>"
      ],
      "text/plain": [
       "  cpc3dig nuts2   Year   Frac_fam\n",
       "0    A01B  AT12   4028   1.833333\n",
       "1    A01B  AT13   2015   0.100000\n",
       "2    A01B  AT21   6042   0.726190\n",
       "3    A01B  AT22   8054   2.119048\n",
       "4    A01B  AT31  12075  11.404365"
      ]
     },
     "execution_count": 5,
     "metadata": {},
     "output_type": "execute_result"
    }
   ],
   "source": [
    "#Create the cpc-3dig code\n",
    "df['cpc3dig'] = df['cpc4dig'].str[0:4]\n",
    "\n",
    "df = df.groupby(['cpc3dig', 'nuts2']).sum().reset_index()\n",
    "df.head()"
   ]
  },
  {
   "cell_type": "markdown",
   "metadata": {},
   "source": [
    "##### Hirschman-Herfindahl-Index"
   ]
  },
  {
   "cell_type": "code",
   "execution_count": 6,
   "metadata": {},
   "outputs": [],
   "source": [
    "df_full = df.groupby('nuts2')['Frac_fam'].sum().reset_index().rename(columns = {'Frac_fam': 'total_of_region'})\n",
    "df = pd.merge(df, df_full, on = 'nuts2')"
   ]
  },
  {
   "cell_type": "code",
   "execution_count": 7,
   "metadata": {},
   "outputs": [
    {
     "data": {
      "text/html": [
       "<div>\n",
       "<style scoped>\n",
       "    .dataframe tbody tr th:only-of-type {\n",
       "        vertical-align: middle;\n",
       "    }\n",
       "\n",
       "    .dataframe tbody tr th {\n",
       "        vertical-align: top;\n",
       "    }\n",
       "\n",
       "    .dataframe thead th {\n",
       "        text-align: right;\n",
       "    }\n",
       "</style>\n",
       "<table border=\"1\" class=\"dataframe\">\n",
       "  <thead>\n",
       "    <tr style=\"text-align: right;\">\n",
       "      <th></th>\n",
       "      <th>nuts2</th>\n",
       "      <th>hh_index</th>\n",
       "    </tr>\n",
       "  </thead>\n",
       "  <tbody>\n",
       "    <tr>\n",
       "      <th>222</th>\n",
       "      <td>PT20</td>\n",
       "      <td>1.000000</td>\n",
       "    </tr>\n",
       "    <tr>\n",
       "      <th>23</th>\n",
       "      <td>BG34</td>\n",
       "      <td>0.360000</td>\n",
       "    </tr>\n",
       "    <tr>\n",
       "      <th>87</th>\n",
       "      <td>EL42</td>\n",
       "      <td>0.232995</td>\n",
       "    </tr>\n",
       "    <tr>\n",
       "      <th>96</th>\n",
       "      <td>EL65</td>\n",
       "      <td>0.207101</td>\n",
       "    </tr>\n",
       "    <tr>\n",
       "      <th>223</th>\n",
       "      <td>PT30</td>\n",
       "      <td>0.188147</td>\n",
       "    </tr>\n",
       "  </tbody>\n",
       "</table>\n",
       "</div>"
      ],
      "text/plain": [
       "    nuts2  hh_index\n",
       "222  PT20  1.000000\n",
       "23   BG34  0.360000\n",
       "87   EL42  0.232995\n",
       "96   EL65  0.207101\n",
       "223  PT30  0.188147"
      ]
     },
     "execution_count": 7,
     "metadata": {},
     "output_type": "execute_result"
    }
   ],
   "source": [
    "df['share'] = df['Frac_fam']/df['total_of_region']\n",
    "df['share_alpha'] = (df['share'])**2\n",
    "\n",
    "hh_index = df.groupby('nuts2')['share_alpha'].sum().reset_index().rename(\n",
    "    columns = {'share_alpha': 'hh_index'}).sort_values(\n",
    "    by = 'hh_index', ascending = False)\n",
    "\n",
    "hh_index.head()"
   ]
  },
  {
   "cell_type": "markdown",
   "metadata": {},
   "source": [
    "##### Shannon Entropy Index"
   ]
  },
  {
   "cell_type": "code",
   "execution_count": 8,
   "metadata": {},
   "outputs": [],
   "source": [
    "df['share_lnshare'] = df['share'] * np.log2(df['share'])"
   ]
  },
  {
   "cell_type": "code",
   "execution_count": 9,
   "metadata": {},
   "outputs": [
    {
     "data": {
      "text/html": [
       "<div>\n",
       "<style scoped>\n",
       "    .dataframe tbody tr th:only-of-type {\n",
       "        vertical-align: middle;\n",
       "    }\n",
       "\n",
       "    .dataframe tbody tr th {\n",
       "        vertical-align: top;\n",
       "    }\n",
       "\n",
       "    .dataframe thead th {\n",
       "        text-align: right;\n",
       "    }\n",
       "</style>\n",
       "<table border=\"1\" class=\"dataframe\">\n",
       "  <thead>\n",
       "    <tr style=\"text-align: right;\">\n",
       "      <th></th>\n",
       "      <th>nuts2</th>\n",
       "      <th>se_index</th>\n",
       "    </tr>\n",
       "  </thead>\n",
       "  <tbody>\n",
       "    <tr>\n",
       "      <th>222</th>\n",
       "      <td>PT20</td>\n",
       "      <td>0.000000</td>\n",
       "    </tr>\n",
       "    <tr>\n",
       "      <th>23</th>\n",
       "      <td>BG34</td>\n",
       "      <td>-1.521928</td>\n",
       "    </tr>\n",
       "    <tr>\n",
       "      <th>96</th>\n",
       "      <td>EL65</td>\n",
       "      <td>-2.295466</td>\n",
       "    </tr>\n",
       "    <tr>\n",
       "      <th>87</th>\n",
       "      <td>EL42</td>\n",
       "      <td>-2.336102</td>\n",
       "    </tr>\n",
       "    <tr>\n",
       "      <th>223</th>\n",
       "      <td>PT30</td>\n",
       "      <td>-2.972469</td>\n",
       "    </tr>\n",
       "  </tbody>\n",
       "</table>\n",
       "</div>"
      ],
      "text/plain": [
       "    nuts2  se_index\n",
       "222  PT20  0.000000\n",
       "23   BG34 -1.521928\n",
       "96   EL65 -2.295466\n",
       "87   EL42 -2.336102\n",
       "223  PT30 -2.972469"
      ]
     },
     "execution_count": 9,
     "metadata": {},
     "output_type": "execute_result"
    }
   ],
   "source": [
    "se_index = df.groupby('nuts2')['share_lnshare'].sum().reset_index().rename(\n",
    "    columns = {'share_lnshare': 'se_index'}).sort_values(\n",
    "    by = 'se_index', ascending = False)\n",
    "\n",
    "se_index.head()"
   ]
  },
  {
   "cell_type": "markdown",
   "metadata": {},
   "source": [
    "##### Ogive Index"
   ]
  },
  {
   "cell_type": "code",
   "execution_count": 10,
   "metadata": {},
   "outputs": [],
   "source": [
    "num_industries = len(pd.unique(df['cpc3dig']))\n",
    "df['o_sum'] = num_industries * ((df['share'] - (1/num_industries))**2)"
   ]
  },
  {
   "cell_type": "code",
   "execution_count": 11,
   "metadata": {},
   "outputs": [
    {
     "data": {
      "text/html": [
       "<div>\n",
       "<style scoped>\n",
       "    .dataframe tbody tr th:only-of-type {\n",
       "        vertical-align: middle;\n",
       "    }\n",
       "\n",
       "    .dataframe tbody tr th {\n",
       "        vertical-align: top;\n",
       "    }\n",
       "\n",
       "    .dataframe thead th {\n",
       "        text-align: right;\n",
       "    }\n",
       "</style>\n",
       "<table border=\"1\" class=\"dataframe\">\n",
       "  <thead>\n",
       "    <tr style=\"text-align: right;\">\n",
       "      <th></th>\n",
       "      <th>nuts2</th>\n",
       "      <th>o_index</th>\n",
       "    </tr>\n",
       "  </thead>\n",
       "  <tbody>\n",
       "    <tr>\n",
       "      <th>222</th>\n",
       "      <td>PT20</td>\n",
       "      <td>658.001515</td>\n",
       "    </tr>\n",
       "    <tr>\n",
       "      <th>23</th>\n",
       "      <td>BG34</td>\n",
       "      <td>235.604545</td>\n",
       "    </tr>\n",
       "    <tr>\n",
       "      <th>87</th>\n",
       "      <td>EL42</td>\n",
       "      <td>151.787139</td>\n",
       "    </tr>\n",
       "    <tr>\n",
       "      <th>96</th>\n",
       "      <td>EL65</td>\n",
       "      <td>134.693966</td>\n",
       "    </tr>\n",
       "    <tr>\n",
       "      <th>223</th>\n",
       "      <td>PT30</td>\n",
       "      <td>122.199572</td>\n",
       "    </tr>\n",
       "  </tbody>\n",
       "</table>\n",
       "</div>"
      ],
      "text/plain": [
       "    nuts2     o_index\n",
       "222  PT20  658.001515\n",
       "23   BG34  235.604545\n",
       "87   EL42  151.787139\n",
       "96   EL65  134.693966\n",
       "223  PT30  122.199572"
      ]
     },
     "execution_count": 11,
     "metadata": {},
     "output_type": "execute_result"
    }
   ],
   "source": [
    "o_index = df.groupby('nuts2')['o_sum'].sum().reset_index().rename(\n",
    "    columns = {'o_sum':'o_index'}).sort_values(\n",
    "    by = 'o_index', ascending = False)\n",
    "\n",
    "o_index.head()"
   ]
  },
  {
   "cell_type": "markdown",
   "metadata": {},
   "source": [
    "##### Krugman Specialization Index"
   ]
  },
  {
   "cell_type": "code",
   "execution_count": 12,
   "metadata": {},
   "outputs": [],
   "source": [
    "num_regions = len(pd.unique(df['nuts2']))\n",
    "df_industries = df.groupby(['cpc3dig'])['share'].sum().reset_index()\n",
    "df_industries['share'] = df_industries['share']/num_regions\n",
    "\n",
    "df_industries = df_industries.rename(columns = {'share': 'total_reference_group'})"
   ]
  },
  {
   "cell_type": "code",
   "execution_count": 18,
   "metadata": {},
   "outputs": [],
   "source": [
    "df = pd.merge(df, df_industries, on = 'cpc3dig')"
   ]
  },
  {
   "cell_type": "code",
   "execution_count": 19,
   "metadata": {},
   "outputs": [],
   "source": [
    "df['ks_sum'] = np.abs(df['share'] - df['total_reference_group'])"
   ]
  },
  {
   "cell_type": "code",
   "execution_count": 21,
   "metadata": {},
   "outputs": [],
   "source": [
    "ks_index = df.groupby('nuts2')['ks_sum'].sum().reset_index().rename(\n",
    "    columns = {'ks_sum':'ks_index'}).sort_values(\n",
    "    'ks_index', ascending = False)"
   ]
  },
  {
   "cell_type": "markdown",
   "metadata": {},
   "source": [
    "##### Index of Inequality"
   ]
  },
  {
   "cell_type": "code",
   "execution_count": 22,
   "metadata": {},
   "outputs": [],
   "source": [
    "df['ineq_sum'] = (df['share'] - df['total_reference_group'])**2\n",
    "ineq_index = df.groupby('nuts2')['ineq_sum'].sum().reset_index().rename(\n",
    "    columns = {'ineq_sum':'ineq_index'}).sort_values(\n",
    "    'ineq_index', ascending = False)"
   ]
  },
  {
   "cell_type": "markdown",
   "metadata": {},
   "source": [
    "#### Theil Index"
   ]
  },
  {
   "cell_type": "code",
   "execution_count": 23,
   "metadata": {},
   "outputs": [],
   "source": [
    "df['theil_sum'] = (1/num_industries)*(df['share']/df['total_reference_group']) * np.log2(df['share']/df['total_reference_group'])"
   ]
  },
  {
   "cell_type": "code",
   "execution_count": 24,
   "metadata": {},
   "outputs": [],
   "source": [
    "theil_index = df.groupby('nuts2')['theil_sum'].sum().reset_index().rename(\n",
    "    columns = {'theil_sum':'theil_index'}).sort_values(\n",
    "    'theil_index', ascending = False)"
   ]
  },
  {
   "cell_type": "code",
   "execution_count": null,
   "metadata": {},
   "outputs": [],
   "source": []
  }
 ],
 "metadata": {
  "kernelspec": {
   "display_name": "Python 3",
   "language": "python",
   "name": "python3"
  },
  "language_info": {
   "codemirror_mode": {
    "name": "ipython",
    "version": 3
   },
   "file_extension": ".py",
   "mimetype": "text/x-python",
   "name": "python",
   "nbconvert_exporter": "python",
   "pygments_lexer": "ipython3",
   "version": "3.8.3"
  }
 },
 "nbformat": 4,
 "nbformat_minor": 4
}
